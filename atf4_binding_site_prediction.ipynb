{
  "nbformat": 4,
  "nbformat_minor": 0,
  "metadata": {
    "colab": {
      "provenance": [],
      "authorship_tag": "ABX9TyMfJivhGMtvD39zSfbRWYRX",
      "include_colab_link": true
    },
    "kernelspec": {
      "name": "python3",
      "display_name": "Python 3"
    },
    "language_info": {
      "name": "python"
    }
  },
  "cells": [
    {
      "cell_type": "markdown",
      "metadata": {
        "id": "view-in-github",
        "colab_type": "text"
      },
      "source": [
        "<a href=\"https://colab.research.google.com/github/hyungdon/G69D/blob/master/atf4_binding_site_prediction.ipynb\" target=\"_parent\"><img src=\"https://colab.research.google.com/assets/colab-badge.svg\" alt=\"Open In Colab\"/></a>"
      ]
    },
    {
      "cell_type": "code",
      "execution_count": 7,
      "metadata": {
        "colab": {
          "base_uri": "https://localhost:8080/",
          "height": 573
        },
        "id": "_6z8tL_1RpWN",
        "outputId": "00f00397-c2ae-4034-eed8-412c3548d2f5"
      },
      "outputs": [
        {
          "output_type": "stream",
          "name": "stdout",
          "text": [
            "Collecting colorama\n",
            "  Downloading colorama-0.4.6-py2.py3-none-any.whl (25 kB)\n",
            "Installing collected packages: colorama\n",
            "Successfully installed colorama-0.4.6\n"
          ]
        },
        {
          "output_type": "display_data",
          "data": {
            "text/plain": [
              "<Figure size 640x480 with 1 Axes>"
            ],
            "image/png": "[encoded data removed]"
          },
          "metadata": {}
        },
        {
          "output_type": "stream",
          "name": "stdout",
          "text": [
            "GGCTGATGAA\n",
            "7737\n",
            "TTCTGATGCA\n",
            "8090\n"
          ]
        }
      ],
      "source": [
        "!pip install colorama\n",
        "from termcolor import colored\n",
        "from colorama import Fore, Style\n",
        "from matplotlib import pyplot\n",
        "import matplotlib.patches as mpatches\n",
        "import re\n",
        "Thor2p = \"taagtttcgaaaattggaagctgagactacatcgagtattattaagttccttccggaaagtggagtgattttcttatcattagatatgatatcaagatgaaattaatcaacatatttcgaaaacataaacaagtataccgtttctttcctttgctcaaacaacaaacaagcttttgtttgagttgtgatacattatttttgtaaaactcactcaccattttttggctgatgaaactgggccatctcgccgagtcagtcagttggaagataatcccgagcacatgttccacagttcgtgactcagagtagcgcggcaaagaagcgtttactcagctggcttatcagtggggaactttgaatacctttctgatgcaacgcagaccaccttgactaataaaaatttccgctttcctataattc\"\n",
        "# This is the 4E-BP intron DNA sequence\n",
        "## One can replace this with any sequence of choice\n",
        "def atf4_binding_sites (seq, profile):\n",
        "    #\"find ATF4 binding sites based on position weight matrix\"\n",
        "    width = len(profile['T'])\n",
        "    bindingscore = []\n",
        "    for i in range(len(seq)-width):\n",
        "        score = 0\n",
        "        for j in range(width):\n",
        "            letter = seq[i+j]\n",
        "            score += profile [letter][j]\n",
        "        bindingscore.append (score)\n",
        "    return bindingscore\n",
        "\n",
        "## this is the human pfm for ATF4 (matrix id: MA0833.1)\n",
        "profile = {'A': [210, 169, 639, 0, 19, 888, 2, 1, 40, 879, 888, 0, 414], 'C': [71, 117, 202, 0, 0, 0, 372, 0, 838, 21, 3, 266, 272], 'G': [442, 409, 127, 7, 1090, 0, 9, 1104, 16, 0, 1, 62, 101], 'T': [170, 213, 3, 981, 11, 25, 470, 4, 113, 3, 4, 714, 78]}\n",
        "profilerevcomp = {'T': [414, 0, 888, 879, 40, 1, 2, 888, 19, 0, 639, 169, 210], 'G': [272, 266, 3, 21, 838, 0, 372, 0, 0, 0, 202, 117, 71], 'C': [101, 62, 1, 0, 16, 1104, 9, 0, 1090, 7, 127, 409, 442], 'A': [78, 714, 4, 3, 113, 4, 470, 25, 11, 981, 3, 213, 170]}\n",
        "## generates maximum binding score of transcription factorupperseq = Thor2p.upper ()\n",
        "max_binding_list = []\n",
        "for i in range(len(profile['A'])):\n",
        "    score_list = []\n",
        "    score_list.append(profile['A'][i])\n",
        "    score_list.append(profile['C'][i])\n",
        "    score_list.append(profile['G'][i])\n",
        "    score_list.append(profile['T'][i])\n",
        "    max_binding_list.append(max(score_list))\n",
        "max_score = sum(max_binding_list)\n",
        "upperseq = Thor2p.upper()\n",
        "bindingscores = atf4_binding_sites (upperseq, profile)\n",
        "revcompbindingscores = atf4_binding_sites (upperseq, profilerevcomp)\n",
        "from matplotlib import pyplot\n",
        "pyplot.plot (revcompbindingscores)\n",
        "pyplot.ylim (0.76 * max_score, max_score)\n",
        "pyplot.plot (bindingscores, \"green\")\n",
        "pyplot.ylim (0.76 * max_score, max_score)\n",
        "green_patch = mpatches.Patch(color='green', label='forward strand sites')\n",
        "blue_patch = mpatches.Patch(color='blue', label='reverse strand sites')\n",
        "pyplot.legend(handles=[green_patch, blue_patch])\n",
        "pyplot.show ()\n",
        "for i in range (len(bindingscores)):\n",
        "    if bindingscores[i] > 0.76 * max_score:\n",
        "        print(upperseq[i:i + 10])\n",
        "        print(bindingscores[i])\n"
      ]
    },
    {
      "cell_type": "code",
      "source": [
        "## accesses binding site information\n",
        "forsites = []\n",
        "forpairs = []\n",
        "revsites = []\n",
        "revpairs = []\n",
        "def binding_sites (binding, sites, pairs):\n",
        "    for i in range (len(binding)):\n",
        "        if binding[i] > 0.76 * max_score:\n",
        "            number = binding[i]\n",
        "            sequence = Thor2p[i:i + len(profile['A'])]\n",
        "            sites.append(sequence)\n",
        "            percent_max_score = int(number/max_score * 100.0)\n",
        "            pair = sequence.upper() + ': ' + str(percent_max_score) + \" percent of the max binding score\"\n",
        "            pairs.append(str(pair))\n",
        "    return sites, pairs\n",
        "binding_sites(bindingscores, forsites, forpairs)\n",
        "binding_sites(revcompbindingscores, revsites, revpairs)\n",
        "## color codes sites and displays them in the DNA sequence\n",
        "def replace_all(text, sites, color):\n",
        "    for i in range (len(sites)):\n",
        "        visible_sites = colored(sites[i].upper(), color, attrs=['bold'])\n",
        "        text = text.replace(sites[i], visible_sites)\n",
        "    return text\n",
        "forDNA = replace_all(Thor2p, forsites, 'green')\n",
        "finalDNA = replace_all(forDNA, revsites, 'blue')\n",
        "print(finalDNA)\n",
        "##presents binding scores for both original and revcomp\n",
        "allsites = forsites + revsites\n",
        "print('\\n' + Fore.RED + str(len(allsites)) + ' binding sites')\n",
        "print(Fore.BLUE + '\\n'.join(revpairs) + Fore.GREEN + '\\n'.join(forpairs))"
      ],
      "metadata": {
        "colab": {
          "base_uri": "https://localhost:8080/"
        },
        "id": "x0Ko0CikjwiU",
        "outputId": "55b34551-8675-4a4b-d227-1f5143d60dbf"
      },
      "execution_count": 10,
      "outputs": [
        {
          "output_type": "stream",
          "name": "stdout",
          "text": [
            "taagtttcgaaaattggaagctgagactacatcgagtattattaagttccttccggaaagtggagtgattttcttatcattagatatgatatcaagatgaaattaatcaacatatttcgaaaacataaacaagtataccgtttctttcctttgctcaaacaacaaacaagcttttgtttgagttgtgatacattatttttgtaaaactcactcaccattttttGGCTGATGAAACTgggccatctcgccgagtcagtcagttggaagataatcccgagcacatgttccacagttcgtgactcagagtagcgcggcaaagaagcgtttactcagctggcttatcagtggggaactttgaatacctTTCTGATGCAACGcagaccaccttgactaataaaaatttccgctttcctataattc\n",
            "\n",
            "\u001b[31m2 binding sites\n",
            "\u001b[34m\u001b[32mGGCTGATGAAACT: 79 percent of the max binding score\n",
            "TTCTGATGCAACG: 82 percent of the max binding score\n"
          ]
        }
      ]
    }
  ]
}